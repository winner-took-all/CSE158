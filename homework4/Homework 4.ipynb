{
 "cells": [
  {
   "cell_type": "markdown",
   "metadata": {},
   "source": [
    "# CSE 158, Fall 2019: Homework 4"
   ]
  },
  {
   "cell_type": "markdown",
   "metadata": {},
   "source": [
    "### **Name:** Hongjian Cui &ensp;&ensp;&ensp;&ensp; **PID:** U08398995 "
   ]
  },
  {
   "cell_type": "code",
   "execution_count": 1,
   "metadata": {},
   "outputs": [],
   "source": [
    "import json\n",
    "import numpy as np\n",
    "import random\n",
    "import string\n",
    "\n",
    "from sklearn.feature_extraction.text import CountVectorizer\n",
    "from sklearn.feature_extraction.text import TfidfVectorizer\n",
    "from sklearn import linear_model\n",
    "from collections import defaultdict"
   ]
  },
  {
   "cell_type": "code",
   "execution_count": 2,
   "metadata": {},
   "outputs": [],
   "source": [
    "def parseData(fname):\n",
    "    for l in open(fname):\n",
    "        yield eval(l)"
   ]
  },
  {
   "cell_type": "code",
   "execution_count": 3,
   "metadata": {},
   "outputs": [],
   "source": [
    "path = \"/home/cui/Projects/PycharmProjects/CSE-158/data/train_Category.json\""
   ]
  },
  {
   "cell_type": "code",
   "execution_count": 4,
   "metadata": {},
   "outputs": [],
   "source": [
    "dataset = list(parseData(path))"
   ]
  },
  {
   "cell_type": "code",
   "execution_count": 5,
   "metadata": {},
   "outputs": [],
   "source": [
    "data = dataset[:10000]"
   ]
  },
  {
   "cell_type": "code",
   "execution_count": 6,
   "metadata": {},
   "outputs": [],
   "source": [
    "punctuation = set(string.punctuation)\n",
    "corpus = []\n",
    "\n",
    "for d in data:\n",
    "    text = d['review_text']\n",
    "    text = text.lower()\n",
    "    text = [c for c in text if not (c in punctuation)]\n",
    "    text = ''.join(text)\n",
    "    corpus.append(text)"
   ]
  },
  {
   "cell_type": "code",
   "execution_count": 7,
   "metadata": {},
   "outputs": [
    {
     "data": {
      "text/plain": [
       "'pretty decent the ending seemed a little rush but a good ending to the first trilogy in this series the fact that most of the time it is a military fantasy makes it interesting also all of the descriptions of food just make me hungry'"
      ]
     },
     "execution_count": 7,
     "metadata": {},
     "output_type": "execute_result"
    }
   ],
   "source": [
    "corpus[1]"
   ]
  },
  {
   "cell_type": "markdown",
   "metadata": {},
   "source": [
    "## Question 1:"
   ]
  },
  {
   "cell_type": "code",
   "execution_count": 8,
   "metadata": {},
   "outputs": [],
   "source": [
    "vec = CountVectorizer(ngram_range=(2, 2), dtype=np.uint16)"
   ]
  },
  {
   "cell_type": "code",
   "execution_count": 9,
   "metadata": {},
   "outputs": [],
   "source": [
    "X = vec.fit_transform(corpus)"
   ]
  },
  {
   "cell_type": "code",
   "execution_count": 10,
   "metadata": {},
   "outputs": [],
   "source": [
    "bigram_dic = vec.vocabulary_"
   ]
  },
  {
   "cell_type": "code",
   "execution_count": 11,
   "metadata": {},
   "outputs": [
    {
     "data": {
      "text/plain": [
       "{'genuinely enthralling': 179383,\n",
       " 'enthralling if': 143297,\n",
       " 'if collins': 218676,\n",
       " 'collins or': 93268,\n",
       " 'or bernard': 333461,\n",
       " 'bernard did': 58842,\n",
       " 'did invent': 121687,\n",
       " 'invent this': 232352,\n",
       " 'this out': 465827,\n",
       " 'out of': 337953,\n",
       " 'of whole': 325661,\n",
       " 'whole cloth': 515212,\n",
       " 'cloth they': 91985,\n",
       " 'they deserve': 462487,\n",
       " 'deserve medal': 118119,\n",
       " 'medal for': 285952,\n",
       " 'for imagination': 167965,\n",
       " 'imagination lets': 220783,\n",
       " 'lets leave': 262384,\n",
       " 'leave the': 260265,\n",
       " 'the veracity': 457751,\n",
       " 'veracity aside': 496235,\n",
       " 'aside for': 41451,\n",
       " 'for moment': 168320,\n",
       " 'moment always': 294007,\n",
       " 'always touchy': 18288,\n",
       " 'touchy subject': 479229,\n",
       " 'subject when': 432303,\n",
       " 'when it': 511796,\n",
       " 'it comes': 238293,\n",
       " 'comes to': 94088,\n",
       " 'to real': 474940,\n",
       " 'real life': 373902,\n",
       " 'life stories': 264221,\n",
       " 'stories of': 428129,\n",
       " 'of the': 325145,\n",
       " 'the occult': 454522,\n",
       " 'occult and': 319127,\n",
       " 'and talk': 29109,\n",
       " 'talk about': 439594,\n",
       " 'about the': 4527,\n",
       " 'the contents': 450359,\n",
       " 'contents the': 99270,\n",
       " 'the black': 449472,\n",
       " 'black alchemist': 62716,\n",
       " 'alchemist covers': 12898,\n",
       " 'covers period': 103107,\n",
       " 'period of': 348289,\n",
       " 'of two': 325393,\n",
       " 'two years': 486049,\n",
       " 'years in': 529031,\n",
       " 'in which': 225444,\n",
       " 'which collins': 512975,\n",
       " 'collins magician': 93267,\n",
       " 'magician and': 277324,\n",
       " 'and bernard': 22357,\n",
       " 'bernard psychic': 58844,\n",
       " 'psychic undertook': 364573,\n",
       " 'undertook series': 489306,\n",
       " 'series of': 400622,\n",
       " 'of psychic': 323998,\n",
       " 'psychic quests': 364570,\n",
       " 'quests that': 367927,\n",
       " 'that put': 447387,\n",
       " 'put them': 366095,\n",
       " 'them in': 459809,\n",
       " 'in opposition': 224309,\n",
       " 'opposition with': 333228,\n",
       " 'with the': 520899,\n",
       " 'the titular': 457300,\n",
       " 'titular black': 471837,\n",
       " 'alchemist as': 12897,\n",
       " 'as entertainment': 39708,\n",
       " 'entertainment goes': 143233,\n",
       " 'goes the': 184145,\n",
       " 'the combination': 450231,\n",
       " 'combination of': 93675,\n",
       " 'of harrowing': 322068,\n",
       " 'harrowing discoveries': 195297,\n",
       " 'discoveries ancient': 125041,\n",
       " 'ancient lore': 21592,\n",
       " 'lore and': 271936,\n",
       " 'and going': 24754,\n",
       " 'going down': 184215,\n",
       " 'down the': 130114,\n",
       " 'the pub': 455395,\n",
       " 'pub for': 364764,\n",
       " 'for cigarette': 167404,\n",
       " 'cigarette and': 89422,\n",
       " 'and guinness': 24884,\n",
       " 'guinness trying': 190545,\n",
       " 'trying to': 483859,\n",
       " 'to make': 474199,\n",
       " 'make sense': 278379,\n",
       " 'sense of': 399098,\n",
       " 'of it': 322476,\n",
       " 'it all': 238064,\n",
       " 'all while': 14763,\n",
       " 'while hen': 513614,\n",
       " 'hen party': 202260,\n",
       " 'party screams': 344563,\n",
       " 'screams at': 394495,\n",
       " 'at each': 42672,\n",
       " 'each other': 133719,\n",
       " 'other is': 336324,\n",
       " 'is winner': 236930,\n",
       " 'winner it': 517660,\n",
       " 'it is': 238812,\n",
       " 'is simultaneously': 236232,\n",
       " 'simultaneously down': 409753,\n",
       " 'down to': 130131,\n",
       " 'to earth': 473089,\n",
       " 'earth and': 134124,\n",
       " 'and out': 26992,\n",
       " 'of this': 325180,\n",
       " 'this world': 466482,\n",
       " 'world it': 524410,\n",
       " 'it reads': 239209,\n",
       " 'reads fast': 373567,\n",
       " 'fast both': 157282,\n",
       " 'both because': 68155,\n",
       " 'because of': 53843,\n",
       " 'the curiousity': 450609,\n",
       " 'curiousity and': 106727,\n",
       " 'and because': 22295,\n",
       " 'because collins': 53643,\n",
       " 'collins has': 93265,\n",
       " 'has very': 196513,\n",
       " 'very clear': 496833,\n",
       " 'clear writing': 90980,\n",
       " 'writing style': 526858,\n",
       " 'style sometimes': 431894,\n",
       " 'sometimes its': 418650,\n",
       " 'its little': 240542,\n",
       " 'little clunky': 268328,\n",
       " 'clunky or': 92261,\n",
       " 'or over': 334247,\n",
       " 'over repetitive': 338852,\n",
       " 'repetitive and': 380113,\n",
       " 'and theres': 29253,\n",
       " 'theres few': 461645,\n",
       " 'few meetings': 160811,\n",
       " 'meetings that': 286391,\n",
       " 'that get': 446419,\n",
       " 'get underreported': 180293,\n",
       " 'underreported but': 489018,\n",
       " 'but am': 73779,\n",
       " 'am very': 18729,\n",
       " 'very much': 497152,\n",
       " 'much quibbling': 299780,\n",
       " 'quibbling here': 368004,\n",
       " 'here mostly': 205068,\n",
       " 'mostly important': 297521,\n",
       " 'important he': 221757,\n",
       " 'he captures': 199110,\n",
       " 'captures his': 79797,\n",
       " 'his own': 209726,\n",
       " 'own and': 339772,\n",
       " 'and bernards': 22358,\n",
       " 'bernards sense': 58847,\n",
       " 'of wonder': 325723,\n",
       " 'wonder awe': 522670,\n",
       " 'awe and': 46904,\n",
       " 'and occasionally': 26882,\n",
       " 'occasionally revulsion': 319085,\n",
       " 'revulsion enough': 382940,\n",
       " 'enough that': 142782,\n",
       " 'that shared': 447663,\n",
       " 'shared them': 403490,\n",
       " 'pretty decent': 360174,\n",
       " 'decent the': 113514,\n",
       " 'the ending': 451336,\n",
       " 'ending seemed': 140978,\n",
       " 'seemed little': 397199,\n",
       " 'little rush': 268757,\n",
       " 'rush but': 388034,\n",
       " 'but good': 74219,\n",
       " 'good ending': 184857,\n",
       " 'ending to': 141019,\n",
       " 'to the': 475703,\n",
       " 'the first': 451790,\n",
       " 'first trilogy': 164517,\n",
       " 'trilogy in': 482194,\n",
       " 'in this': 225184,\n",
       " 'this series': 466078,\n",
       " 'series the': 400794,\n",
       " 'the fact': 451588,\n",
       " 'fact that': 153967,\n",
       " 'that most': 447080,\n",
       " 'most of': 297252,\n",
       " 'the time': 457274,\n",
       " 'time it': 470578,\n",
       " 'is military': 235370,\n",
       " 'military fantasy': 290817,\n",
       " 'fantasy makes': 156488,\n",
       " 'makes it': 278567,\n",
       " 'it interesting': 238800,\n",
       " 'interesting also': 230093,\n",
       " 'also all': 16508,\n",
       " 'all of': 14416,\n",
       " 'the descriptions': 450842,\n",
       " 'descriptions of': 117926,\n",
       " 'of food': 321703,\n",
       " 'food just': 166870,\n",
       " 'just make': 247066,\n",
       " 'make me': 278315,\n",
       " 'me hungry': 284643,\n",
       " 'philippa created': 350367,\n",
       " 'created an': 103922,\n",
       " 'an intricate': 20947,\n",
       " 'intricate world': 231813,\n",
       " 'world composed': 524285,\n",
       " 'composed of': 96402,\n",
       " 'of geists': 321828,\n",
       " 'geists and': 178362,\n",
       " 'and demonlike': 23499,\n",
       " 'demonlike creatures': 116386,\n",
       " 'creatures and': 104324,\n",
       " 'and the': 29228,\n",
       " 'the deacons': 450714,\n",
       " 'deacons who': 112447,\n",
       " 'who are': 514315,\n",
       " 'are able': 35689,\n",
       " 'able to': 3234,\n",
       " 'to see': 475264,\n",
       " 'see and': 396434,\n",
       " 'and defeat': 23453,\n",
       " 'defeat them': 114309,\n",
       " 'them the': 460095,\n",
       " 'the story': 456787,\n",
       " 'story progesses': 428962,\n",
       " 'progesses with': 362584,\n",
       " 'with treachery': 520981,\n",
       " 'treachery politics': 481306,\n",
       " 'politics romance': 355618,\n",
       " 'romance intrigue': 386025,\n",
       " 'intrigue and': 231845,\n",
       " 'and action': 21761,\n",
       " 'action found': 6391,\n",
       " 'found the': 171042,\n",
       " 'story compelling': 428473,\n",
       " 'compelling and': 95324,\n",
       " 'the characters': 449994,\n",
       " 'characters wonderful': 86000,\n",
       " 'wonderful definitely': 522765,\n",
       " 'definitely want': 114864,\n",
       " 'want to': 501791,\n",
       " 'to read': 474925,\n",
       " 'read more': 372057,\n",
       " 'more from': 295787,\n",
       " 'from this': 174636,\n",
       " 'this author': 464907,\n",
       " 'very light': 497108,\n",
       " 'light good': 264536,\n",
       " 'good quirky': 185201,\n",
       " 'quirky read': 368572,\n",
       " 'read felt': 371828,\n",
       " 'felt like': 160058,\n",
       " 'like was': 266199,\n",
       " 'was tumbling': 504884,\n",
       " 'tumbling through': 484140,\n",
       " 'through an': 468815,\n",
       " 'an episode': 20618,\n",
       " 'episode of': 144139,\n",
       " 'of castle': 320474,\n",
       " 'castle with': 81441,\n",
       " 'with different': 518987,\n",
       " 'different names': 123156,\n",
       " 'names but': 305029,\n",
       " 'but didnt': 74024,\n",
       " 'didnt care': 121960,\n",
       " 'care also': 80031,\n",
       " 'also didnt': 16684,\n",
       " 'didnt see': 122193,\n",
       " 'see the': 396747,\n",
       " 'the twist': 457497,\n",
       " 'twist coming': 485180,\n",
       " 'coming at': 94390,\n",
       " 'at the': 43210,\n",
       " 'the end': 451327,\n",
       " 'end and': 140270,\n",
       " 'and like': 26054,\n",
       " 'like that': 266085,\n",
       " 'that in': 446628,\n",
       " 'in crime': 222970,\n",
       " 'crime drama': 104892,\n",
       " 'drama novels': 130883,\n",
       " 'novels it': 316955,\n",
       " 'is book': 233677,\n",
       " 'book to': 66640,\n",
       " 'to be': 472281,\n",
       " 'be gobbled': 51491,\n",
       " 'gobbled up': 183702,\n",
       " 'up in': 492228,\n",
       " 'in day': 223019,\n",
       " 'it was': 239659,\n",
       " 'was christmas': 502998,\n",
       " 'christmas gift': 88995,\n",
       " 'gift from': 181297,\n",
       " 'from friend': 173838,\n",
       " 'friend how': 172580,\n",
       " 'how knows': 214679,\n",
       " 'knows my': 254162,\n",
       " 'my passion': 302414,\n",
       " 'passion to': 345003,\n",
       " 'the good': 452226,\n",
       " 'good books': 184733,\n",
       " 'books this': 67415,\n",
       " 'this book': 464969,\n",
       " 'book just': 65946,\n",
       " 'just grab': 246902,\n",
       " 'grab me': 186518,\n",
       " 'me and': 284162,\n",
       " 'and couldnt': 23218,\n",
       " 'couldnt leave': 101898,\n",
       " 'leave it': 260228,\n",
       " 'it before': 238157,\n",
       " 'before ive': 55778,\n",
       " 'ive finish': 241447,\n",
       " 'finish it': 163479,\n",
       " 'basically sleeping': 50149,\n",
       " 'sleeping with': 412340,\n",
       " 'the enemy': 451357,\n",
       " 'enemy placed': 141362,\n",
       " 'placed in': 352235,\n",
       " 'in the': 225161,\n",
       " 'the uk': 457528,\n",
       " 'uk and': 486865,\n",
       " 'and told': 29361,\n",
       " 'told first': 476894,\n",
       " 'first person': 164358,\n",
       " 'person ok': 348883,\n",
       " 'ok not': 327085,\n",
       " 'not exactly': 314565,\n",
       " 'exactly but': 149994,\n",
       " 'but close': 73946,\n",
       " 'close enough': 91775,\n",
       " 'enough im': 142670,\n",
       " 'im giving': 220322,\n",
       " 'giving it': 182768,\n",
       " 'it stars': 239422,\n",
       " 'stars because': 424287,\n",
       " 'because it': 53755,\n",
       " 'it wasnt': 239662,\n",
       " 'wasnt boring': 505214,\n",
       " 'boring but': 67812,\n",
       " 'but it': 74337,\n",
       " 'was predictable': 504272,\n",
       " 'predictable the': 359030,\n",
       " 'the reader': 455563,\n",
       " 'reader always': 372469,\n",
       " 'always knows': 18106,\n",
       " 'knows where': 254195,\n",
       " 'where the': 512694,\n",
       " 'the storys': 456799,\n",
       " 'storys going': 429483,\n",
       " 'going the': 184303,\n",
       " 'the only': 454596,\n",
       " 'only question': 332217,\n",
       " 'question is': 367688,\n",
       " 'is how': 234891,\n",
       " 'how it': 214647,\n",
       " 'it gets': 238634,\n",
       " 'gets there': 180576,\n",
       " 'book was': 66723,\n",
       " 'was little': 503911,\n",
       " 'little crazy': 268352,\n",
       " 'crazy did': 103681,\n",
       " 'did like': 121710,\n",
       " 'like the': 266088,\n",
       " 'the mindlessness': 453977,\n",
       " 'mindlessness and': 291387,\n",
       " 'and ruthlessness': 28103,\n",
       " 'ruthlessness of': 388254,\n",
       " 'the vampire': 457718,\n",
       " 'vampire race': 495029,\n",
       " 'race however': 369270,\n",
       " 'however the': 215309,\n",
       " 'characters were': 85976,\n",
       " 'were lame': 509469,\n",
       " 'lame and': 256786,\n",
       " 'and at': 22156,\n",
       " 'the last': 453322,\n",
       " 'last minute': 257887,\n",
       " 'minute saved': 291828,\n",
       " 'saved the': 391599,\n",
       " 'the day': 450703,\n",
       " 'omg loved': 328359,\n",
       " 'loved this': 273969,\n",
       " 'this so': 466135,\n",
       " 'so much': 414997,\n",
       " 'much loved': 299670,\n",
       " 'loved how': 273825,\n",
       " 'how everything': 214509,\n",
       " 'everything just': 149246,\n",
       " 'just keeps': 246999,\n",
       " 'keeps going': 249839,\n",
       " 'going and': 184189,\n",
       " 'and how': 25211,\n",
       " 'how the': 214956,\n",
       " 'the power': 455172,\n",
       " 'power play': 358042,\n",
       " 'play is': 352869,\n",
       " 'is depicted': 234140,\n",
       " 'depicted so': 117007,\n",
       " 'so explicitly': 414637,\n",
       " 'explicitly amazing': 152282,\n",
       " 'amazing writing': 19163,\n",
       " 'writing throughout': 526890,\n",
       " 'throughout really': 469322,\n",
       " 'really loved': 375168,\n",
       " 'loved the': 273962,\n",
       " 'the new': 454350,\n",
       " 'new characters': 309122,\n",
       " 'characters this': 85908,\n",
       " 'this sequel': 466077,\n",
       " 'sequel brought': 399758,\n",
       " 'brought in': 71806,\n",
       " 'in loved': 224007,\n",
       " 'the rest': 455757,\n",
       " 'rest of': 381398,\n",
       " 'the victors': 457779,\n",
       " 'victors especially': 498064,\n",
       " 'especially finnick': 145648,\n",
       " 'finnick and': 163692,\n",
       " 'and johanna': 25682,\n",
       " 'johanna they': 244815,\n",
       " 'they were': 463008,\n",
       " 'were all': 509060,\n",
       " 'all pretty': 14474,\n",
       " 'pretty amazing': 360099,\n",
       " 'amazing characters': 18954,\n",
       " 'characters loved': 85617,\n",
       " 'how deep': 214449,\n",
       " 'deep everllark': 114093,\n",
       " 'everllark has': 148543,\n",
       " 'has gotten': 195902,\n",
       " 'gotten im': 186322,\n",
       " 'im just': 220377,\n",
       " 'just soooo': 247365,\n",
       " 'soooo team': 419730,\n",
       " 'team peeta': 441261,\n",
       " 'peeta he': 346162,\n",
       " 'he so': 199734,\n",
       " 'so deserves': 414503,\n",
       " 'deserves katniss': 118174,\n",
       " 'katniss and': 249169,\n",
       " 'and theyre': 29260,\n",
       " 'theyre just': 463168,\n",
       " 'just so': 247352,\n",
       " 'so perfect': 415090,\n",
       " 'perfect for': 347691,\n",
       " 'for each': 167605,\n",
       " 'other gale': 336233,\n",
       " 'gale never': 177191,\n",
       " 'never hits': 308693,\n",
       " 'hits the': 210961,\n",
       " 'the right': 455821,\n",
       " 'right vibe': 384087,\n",
       " 'vibe with': 497755,\n",
       " 'with me': 519961,\n",
       " 'me im': 284651,\n",
       " 'im never': 220428,\n",
       " 'never inclined': 308700,\n",
       " 'inclined to': 225722,\n",
       " 'to think': 475718,\n",
       " 'think that': 464380,\n",
       " 'that maybe': 447013,\n",
       " 'maybe he': 283600,\n",
       " 'he should': 199714,\n",
       " 'should end': 406733,\n",
       " 'end up': 140562,\n",
       " 'up with': 492613,\n",
       " 'with katniss': 519716,\n",
       " 'katniss never': 249199,\n",
       " 'never hes': 308690,\n",
       " 'hes more': 206243,\n",
       " 'more of': 296105,\n",
       " 'the freedom': 451967,\n",
       " 'freedom fighter': 172082,\n",
       " 'fighter image': 161659,\n",
       " 'image than': 220666,\n",
       " 'than lover': 444867,\n",
       " 'lover and': 274129,\n",
       " 'and love': 26186,\n",
       " 'love how': 273219,\n",
       " 'how katniss': 214672,\n",
       " 'katniss is': 249190,\n",
       " 'is love': 235249,\n",
       " 'how she': 214888,\n",
       " 'she just': 404160,\n",
       " 'just fights': 246821,\n",
       " 'fights through': 161758,\n",
       " 'through and': 468817,\n",
       " 'and perseveres': 27181,\n",
       " 'perseveres on': 348719,\n",
       " 'on so': 329690,\n",
       " 'so need': 415015,\n",
       " 'need more': 307145,\n",
       " 'the girl': 452157,\n",
       " 'girl on': 181844,\n",
       " 'on fire': 328933,\n",
       " 'fire and': 163749,\n",
       " 'and that': 29226,\n",
       " 'that ending': 446177,\n",
       " 'ending was': 141037,\n",
       " 'was phenomenal': 504210,\n",
       " 'phenomenal loved': 350297,\n",
       " 'how katnisss': 214673,\n",
       " 'katnisss love': 249216,\n",
       " 'love towards': 273578,\n",
       " 'towards peeta': 479561,\n",
       " 'peeta was': 346170,\n",
       " 'was portrayed': 504258,\n",
       " 'portrayed in': 356579,\n",
       " 'in that': 225158,\n",
       " 'that last': 446830,\n",
       " 'last chapter': 257804,\n",
       " 'chapter im': 84273,\n",
       " 'im so': 220534,\n",
       " 'so glad': 414725,\n",
       " 'glad that': 182890,\n",
       " 'that finnicks': 446327,\n",
       " 'finnicks alright': 163695,\n",
       " 'alright but': 16398,\n",
       " 'but im': 74308,\n",
       " 'so hoping': 414805,\n",
       " 'hoping that': 213077,\n",
       " 'that johanna': 446736,\n",
       " 'johanna and': 244814,\n",
       " 'and peeta': 27148,\n",
       " 'peeta are': 346155,\n",
       " 'are ok': 36733,\n",
       " 'ok cant': 327044,\n",
       " 'cant wait': 79363,\n",
       " 'wait to': 501107,\n",
       " 'to move': 474367,\n",
       " 'move on': 298285,\n",
       " 'on to': 329834,\n",
       " 'to book': 472380,\n",
       " 'john greens': 244854,\n",
       " 'greens looking': 188660,\n",
       " 'looking for': 271608,\n",
       " 'for alaska': 167119,\n",
       " 'alaska was': 12793,\n",
       " 'was suggested': 504714,\n",
       " 'suggested by': 433696,\n",
       " 'by one': 76411,\n",
       " 'one of': 330918,\n",
       " 'of my': 323372,\n",
       " 'my closest': 301817,\n",
       " 'closest friends': 91917,\n",
       " 'friends whom': 173089,\n",
       " 'whom she': 515526,\n",
       " 'she is': 404153,\n",
       " 'is the': 236549,\n",
       " 'only reliable': 332240,\n",
       " 'reliable person': 379027,\n",
       " 'person when': 348949,\n",
       " 'to good': 473513,\n",
       " 'books and': 66951,\n",
       " 'and it': 25578,\n",
       " 'it took': 239567,\n",
       " 'took me': 478089,\n",
       " 'me while': 285256,\n",
       " 'while to': 513858,\n",
       " 'to decide': 472866,\n",
       " 'decide whether': 113596,\n",
       " 'whether or': 512835,\n",
       " 'or not': 334212,\n",
       " 'not should': 315239,\n",
       " 'should buy': 406714,\n",
       " 'buy it': 75367,\n",
       " 'it since': 239364,\n",
       " 'since greens': 409912,\n",
       " 'greens the': 188668,\n",
       " 'the fault': 451680,\n",
       " 'fault in': 157907,\n",
       " 'in our': 224326,\n",
       " 'our stars': 337552,\n",
       " 'stars became': 424286,\n",
       " 'became so': 53541,\n",
       " 'so viral': 415481,\n",
       " 'viral lately': 499053,\n",
       " 'lately but': 258189,\n",
       " 'but finally': 74155,\n",
       " 'finally tracked': 162687,\n",
       " 'tracked it': 479999,\n",
       " 'it down': 238434,\n",
       " 'down at': 129898,\n",
       " 'at singapore': 43146,\n",
       " 'singapore kinokuniya': 410166,\n",
       " 'kinokuniya finished': 252634,\n",
       " 'finished the': 163585,\n",
       " 'the novel': 454463,\n",
       " 'novel in': 316395,\n",
       " 'in about': 222356,\n",
       " 'about two': 4592,\n",
       " 'two days': 485583,\n",
       " 'days and': 111300,\n",
       " 'and just': 25739,\n",
       " 'just could': 246681,\n",
       " 'could not': 101685,\n",
       " 'not put': 315083,\n",
       " 'put it': 366057,\n",
       " 'down really': 130076,\n",
       " 'really for': 374959,\n",
       " 'for young': 169244,\n",
       " 'young adult': 531148,\n",
       " 'adult fiction': 8912,\n",
       " 'fiction it': 161213,\n",
       " 'the great': 452289,\n",
       " 'great mix': 188099,\n",
       " 'mix of': 293056,\n",
       " 'of issues': 322475,\n",
       " 'issues all': 237706,\n",
       " 'all teens': 14660,\n",
       " 'teens and': 441981,\n",
       " 'and young': 30168,\n",
       " 'young adults': 531152,\n",
       " 'adults bear': 9070,\n",
       " 'bear at': 52746,\n",
       " 'at some': 43161,\n",
       " 'some point': 417375,\n",
       " 'point in': 354923,\n",
       " 'in their': 225165,\n",
       " 'their lives': 458944,\n",
       " 'lives the': 269319,\n",
       " 'the issues': 453059,\n",
       " 'issues are': 237711,\n",
       " 'are loss': 36587,\n",
       " 'loss grief': 272339,\n",
       " 'grief and': 188890,\n",
       " 'and suffering': 28982,\n",
       " 'suffering but': 433577,\n",
       " 'but green': 74229,\n",
       " 'green handles': 188583,\n",
       " 'handles these': 193528,\n",
       " 'these kinda': 462068,\n",
       " 'kinda tough': 252180,\n",
       " 'tough issues': 479265,\n",
       " 'issues with': 237850,\n",
       " 'with good': 519355,\n",
       " 'good sense': 185253,\n",
       " 'of humor': 322271,\n",
       " 'humor and': 216494,\n",
       " 'and perfect': 27165,\n",
       " 'perfect compassion': 347649,\n",
       " 'compassion for': 95285,\n",
       " 'for all': 167124,\n",
       " 'all individuals': 14253,\n",
       " 'individuals involved': 226832,\n",
       " 'involved this': 232795,\n",
       " 'this is': 465557,\n",
       " 'is must': 235435,\n",
       " 'must read': 301283,\n",
       " 'read for': 371844,\n",
       " 'for anyone': 167173,\n",
       " 'anyone who': 33627,\n",
       " 'who is': 514656,\n",
       " 'is going': 234686,\n",
       " 'going through': 184309,\n",
       " 'an approaching': 20337,\n",
       " 'approaching of': 35116,\n",
       " 'of age': 319799,\n",
       " 'age experience': 11143,\n",
       " 'experience as': 151764,\n",
       " 'as high': 39992,\n",
       " 'high school': 206983,\n",
       " 'school junior': 393567,\n",
       " 'junior miles': 246388,\n",
       " 'miles halter': 290773,\n",
       " 'halter the': 193099,\n",
       " 'the main': 453672,\n",
       " 'main character': 277658,\n",
       " 'character whom': 85055,\n",
       " 'whom he': 515507,\n",
       " 'he is': 199415,\n",
       " 'is friendless': 234595,\n",
       " 'friendless floridian': 172780,\n",
       " 'floridian who': 165795,\n",
       " 'who begged': 514341,\n",
       " 'begged his': 56077,\n",
       " 'his parents': 209741,\n",
       " 'parents to': 343383,\n",
       " 'to enroll': 473175,\n",
       " 'enroll him': 142850,\n",
       " 'him in': 207711,\n",
       " 'the culver': 450599,\n",
       " 'culver creek': 106490,\n",
       " 'creek boarding': 104486,\n",
       " 'boarding school': 64303,\n",
       " 'school miles': 393592,\n",
       " 'miles dreams': 290769,\n",
       " 'dreams of': 131408,\n",
       " 'of starting': 324872,\n",
       " 'starting fresh': 424961,\n",
       " 'fresh at': 172331,\n",
       " 'at his': 42795,\n",
       " 'his elite': 209026,\n",
       " 'elite alabama': 137773,\n",
       " 'alabama prep': 12671,\n",
       " 'prep school': 359483,\n",
       " 'school at': 393443,\n",
       " 'at school': 43120,\n",
       " 'school he': 393545,\n",
       " 'he falls': 199294,\n",
       " 'falls in': 154964,\n",
       " 'in with': 225470,\n",
       " 'with prankster': 520329,\n",
       " 'prankster of': 358581,\n",
       " 'of roommate': 324307,\n",
       " 'roommate the': 386668,\n",
       " 'the colonel': 450218,\n",
       " 'colonel and': 93301,\n",
       " 'the sexy': 456228,\n",
       " 'sexy yet': 402751,\n",
       " 'yet messedup': 529618,\n",
       " 'messedup alaska': 289205,\n",
       " 'alaska young': 12798,\n",
       " 'young for': 531222,\n",
       " 'for an': 167147,\n",
       " 'an unforgettable': 21241,\n",
       " 'unforgettable 128': 489813,\n",
       " '128 days': 328,\n",
       " 'days miles': 111364,\n",
       " 'miles learns': 290777,\n",
       " 'learns life': 259946,\n",
       " 'life lessons': 264067,\n",
       " 'lessons in': 262198,\n",
       " 'in loyalty': 224016,\n",
       " 'loyalty friendship': 274584,\n",
       " 'friendship love': 173149,\n",
       " 'love literature': 273315,\n",
       " 'literature and': 268136,\n",
       " 'and poetry': 27321,\n",
       " 'poetry as': 354724,\n",
       " 'as well': 41151,\n",
       " 'well as': 508144,\n",
       " 'as experiences': 39740,\n",
       " 'experiences the': 151944,\n",
       " 'the sensation': 456161,\n",
       " 'sensation of': 399001,\n",
       " 'of having': 322086,\n",
       " 'having first': 198510,\n",
       " 'first girlfriend': 164160,\n",
       " 'girlfriend when': 181997,\n",
       " 'when tragedy': 512208,\n",
       " 'tragedy happens': 480214,\n",
       " 'happens at': 194347,\n",
       " 'at culver': 42635,\n",
       " 'creek miles': 104491,\n",
       " 'miles is': 290776,\n",
       " 'is forced': 234554,\n",
       " 'forced to': 169429,\n",
       " 'to undertake': 475876,\n",
       " 'undertake an': 489287,\n",
       " 'an even': 20643,\n",
       " 'even closer': 147332,\n",
       " 'closer examination': 91888,\n",
       " 'examination of': 150099,\n",
       " 'of his': 322188,\n",
       " 'own character': 339832,\n",
       " 'character and': 84546,\n",
       " 'and relationship': 27806,\n",
       " 'relationship with': 378662,\n",
       " 'with his': 519489,\n",
       " 'his friends': 209185,\n",
       " 'friends afterall': 172816,\n",
       " 'afterall this': 10417,\n",
       " 'book is': 65912,\n",
       " 'is indeed': 234958,\n",
       " 'indeed great': 226515,\n",
       " 'great book': 187778,\n",
       " 'just gave': 246877,\n",
       " 'gave out': 178021,\n",
       " 'of because': 320148,\n",
       " 'because dont': 53667,\n",
       " 'dont really': 129110,\n",
       " 'really like': 375147,\n",
       " 'ending yet': 141063,\n",
       " 'yet its': 529584,\n",
       " 'its very': 241087,\n",
       " 'very good': 497025,\n",
       " 'good novel': 185128,\n",
       " 'novel to': 316622,\n",
       " 'read since': 372234,\n",
       " 'since there': 410022,\n",
       " 'there are': 461226,\n",
       " 'are so': 37098,\n",
       " 'so so': 415281,\n",
       " 'so many': 414966,\n",
       " 'many lessons': 280464,\n",
       " 'lessons involved': 262199,\n",
       " 'wish would': 518069,\n",
       " 'would have': 525400,\n",
       " 'have read': 197986,\n",
       " 'read this': 372313,\n",
       " 'this one': 465804,\n",
       " 'one before': 330358,\n",
       " 'before read': 55863,\n",
       " 'read the': 372300,\n",
       " 'the sevenwaters': 456216,\n",
       " 'sevenwaters books': 402086,\n",
       " 'books also': 66945,\n",
       " 'also by': 16591,\n",
       " 'by marillierbecause': 76274,\n",
       " 'marillierbecause probably': 281117,\n",
       " 'probably would': 361813,\n",
       " 'have given': 197603,\n",
       " 'given wildwood': 182632,\n",
       " 'wildwood dancing': 516646,\n",
       " 'dancing stars': 108964,\n",
       " 'stars loved': 424414,\n",
       " 'sevenwaters series': 402091,\n",
       " 'series so': 400743,\n",
       " 'much and': 299339,\n",
       " 'and being': 22324,\n",
       " 'being that': 57385,\n",
       " 'that it': 446692,\n",
       " 'was written': 505105,\n",
       " 'written for': 527023,\n",
       " 'an adult': 20145,\n",
       " 'adult audience': 8881,\n",
       " 'audience the': 44320,\n",
       " 'the stories': 456779,\n",
       " 'stories were': 428221,\n",
       " 'were much': 509530,\n",
       " 'much more': 299699,\n",
       " 'more complicated': 295528,\n",
       " 'complicated and': 96242,\n",
       " 'and interesting': 25488,\n",
       " 'interesting think': 230396,\n",
       " 'think was': 464418,\n",
       " 'little disappointed': 268391,\n",
       " 'disappointed in': 124622,\n",
       " 'one because': 330355,\n",
       " 'because the': 53937,\n",
       " 'story seemed': 429044,\n",
       " 'seemed very': 397261,\n",
       " 'very slow': 497326,\n",
       " 'slow in': 412782,\n",
       " 'first half': 164175,\n",
       " 'half later': 192820,\n",
       " 'later it': 258279,\n",
       " 'it defintely': 238382,\n",
       " 'defintely picked': 114924,\n",
       " 'picked up': 350999,\n",
       " 'up and': 491963,\n",
       " 'and didnt': 23606,\n",
       " 'didnt want': 122260,\n",
       " 'to put': 474871,\n",
       " 'down did': 129930,\n",
       " 'did really': 121789,\n",
       " 'the premise': 455208,\n",
       " 'premise behind': 359373,\n",
       " 'behind the': 56619,\n",
       " 'the book': 449575,\n",
       " 'book and': 65214,\n",
       " 'and will': 30014,\n",
       " 'will read': 517051,\n",
       " 'the next': 454368,\n",
       " 'next one': 310049,\n",
       " 'eli midwife': 137674,\n",
       " 'midwife is': 290336,\n",
       " 'is delighted': 234125,\n",
       " 'delighted to': 115601,\n",
       " 'be in': 51606,\n",
       " 'in charge': 222779,\n",
       " 'charge of': 86091,\n",
       " 'the paternity': 454841,\n",
       " 'paternity ward': 345380,\n",
       " 'ward he': 502224,\n",
       " 'he would': 199920,\n",
       " 'would do': 525337,\n",
       " 'do anything': 126733,\n",
       " 'anything to': 33803,\n",
       " 'to keep': 473979,\n",
       " 'keep his': 249631,\n",
       " 'his patients': 209761,\n",
       " 'patients happy': 345501,\n",
       " 'happy and': 194543,\n",
       " 'and healthy': 25024,\n",
       " 'healthy he': 200337,\n",
       " 'is an': 233446,\n",
       " 'an incredibly': 20849,\n",
       " 'incredibly sweet': 226410,\n",
       " 'sweet and': 437186,\n",
       " 'and kind': 25831,\n",
       " 'kind person': 252086,\n",
       " 'person then': 348928,\n",
       " 'then along': 460488,\n",
       " 'along comes': 15939,\n",
       " 'comes magnus': 94060,\n",
       " 'magnus an': 277463,\n",
       " 'an alpha': 20238,\n",
       " 'alpha passing': 16111,\n",
       " 'passing through': 344971,\n",
       " 'through it': 469006,\n",
       " 'it soon': 239395,\n",
       " 'soon become': 419555,\n",
       " 'become obvious': 54237,\n",
       " 'obvious that': 318854,\n",
       " 'that eli': 446152,\n",
       " 'eli and': 137662,\n",
       " 'and magnus': 26263,\n",
       " 'magnus are': 277465,\n",
       " 'are mates': 36624,\n",
       " 'mates but': 282750,\n",
       " 'but magnus': 74479,\n",
       " 'magnus does': 277467,\n",
       " 'does not': 127609,\n",
       " 'not seem': 315216,\n",
       " 'seem to': 397130,\n",
       " 'to have': 473628,\n",
       " 'have any': 197243,\n",
       " 'any gentle': 33087,\n",
       " 'gentle kind': 179265,\n",
       " 'kind bone': 252051,\n",
       " 'bone in': 64970,\n",
       " 'in his': 223663,\n",
       " 'his body': 208662,\n",
       " 'body he': 64468,\n",
       " 'is brash': 233699,\n",
       " 'brash crude': 69766,\n",
       " 'crude and': 105671,\n",
       " 'and wants': 29868,\n",
       " 'wants his': 501963,\n",
       " 'his mate': 209550,\n",
       " 'mate eli': 282593,\n",
       " 'eli cannot': 137663,\n",
       " 'cannot help': 79091,\n",
       " 'help desiring': 201851,\n",
       " 'desiring him': 118328,\n",
       " 'him but': 207554,\n",
       " 'but refuses': 74740,\n",
       " 'refuses to': 377796,\n",
       " 'to give': 473496,\n",
       " 'give him': 182364,\n",
       " 'him his': 207694,\n",
       " 'his heart': 209281,\n",
       " 'heart magnus': 200641,\n",
       " 'magnus wants': 277471,\n",
       " 'wants more': 501976,\n",
       " 'more and': 295366,\n",
       " 'and realizes': 27707,\n",
       " 'realizes he': 374562,\n",
       " 'he will': 199903,\n",
       " 'will have': 516883,\n",
       " 'have to': 198227,\n",
       " 'to change': 472547,\n",
       " 'change in': 83813,\n",
       " 'in order': 224312,\n",
       " 'order to': 335023,\n",
       " 'to get': 473485,\n",
       " 'get that': 180252,\n",
       " 'that magnus': 446966,\n",
       " 'magnus did': 277466,\n",
       " 'did not': 121754,\n",
       " 'not have': 314730,\n",
       " 'have anyone': 197245,\n",
       " 'anyone to': 33616,\n",
       " 'to guide': 473574,\n",
       " 'guide him': 190416,\n",
       " 'him on': 207825,\n",
       " 'on being': 328577,\n",
       " 'being more': 57106,\n",
       " 'more even': 295705,\n",
       " 'even tempered': 147775,\n",
       " 'tempered and': 442636,\n",
       " 'and less': 26000,\n",
       " 'less destructive': 261974,\n",
       " 'destructive he': 118768,\n",
       " 'he tended': 199811,\n",
       " 'tended to': 442890,\n",
       " 'to do': 473015,\n",
       " 'do what': 127131,\n",
       " 'what he': 510751,\n",
       " 'he wanted': 199884,\n",
       " 'wanted how': 501840,\n",
       " 'how he': 214593,\n",
       " 'wanted but': 501820,\n",
       " 'but eli': 74069,\n",
       " 'eli changes': 137665,\n",
       " 'changes all': 84007,\n",
       " 'all that': 14667,\n",
       " 'that watching': 448157,\n",
       " 'watching his': 505776,\n",
       " 'his transformation': 210255,\n",
       " 'transformation was': 480681,\n",
       " 'was delight': 503164,\n",
       " 'delight to': 115591,\n",
       " 'see he': 396574,\n",
       " 'he had': 199356,\n",
       " 'had to': 192333,\n",
       " 'to grow': 473565,\n",
       " 'grow up': 189640,\n",
       " 'and develop': 23571,\n",
       " 'develop sense': 119613,\n",
       " 'of compassion': 320707,\n",
       " ...}"
      ]
     },
     "execution_count": 11,
     "metadata": {},
     "output_type": "execute_result"
    }
   ],
   "source": [
    "bigram_dic"
   ]
  },
  {
   "cell_type": "code",
   "execution_count": 12,
   "metadata": {},
   "outputs": [
    {
     "data": {
      "text/plain": [
       "533839"
      ]
     },
     "execution_count": 12,
     "metadata": {},
     "output_type": "execute_result"
    }
   ],
   "source": [
    "len(bigram_dic)"
   ]
  },
  {
   "cell_type": "code",
   "execution_count": 13,
   "metadata": {},
   "outputs": [],
   "source": [
    "wordCount = sorted(bigram_dic.items(),key = lambda x:x[1], reverse = True)"
   ]
  },
  {
   "cell_type": "code",
   "execution_count": 14,
   "metadata": {},
   "outputs": [
    {
     "data": {
      "text/plain": [
       "[('zzzaps continuing', 533838),\n",
       " ('zywych lub', 533837),\n",
       " ('zyndu is', 533836),\n",
       " ('zyndu are', 533835),\n",
       " ('zydy hwslh', 533834)]"
      ]
     },
     "execution_count": 14,
     "metadata": {},
     "output_type": "execute_result"
    }
   ],
   "source": [
    "wordCount[:5]"
   ]
  },
  {
   "cell_type": "markdown",
   "metadata": {},
   "source": [
    "## Question 2:"
   ]
  },
  {
   "cell_type": "code",
   "execution_count": 15,
   "metadata": {},
   "outputs": [],
   "source": [
    "vec = CountVectorizer(ngram_range=(2, 2), dtype=np.uint16, \n",
    "                      max_features=1000)\n",
    "X = vec.fit_transform(corpus)\n",
    "X = X.toarray()\n",
    "y = [d['rating'] for d in data]"
   ]
  },
  {
   "cell_type": "code",
   "execution_count": 16,
   "metadata": {},
   "outputs": [],
   "source": [
    "clf = linear_model.Ridge(1.0, fit_intercept=False)\n",
    "clf.fit(X, y)\n",
    "predictions = clf.predict(X)"
   ]
  },
  {
   "cell_type": "code",
   "execution_count": 17,
   "metadata": {},
   "outputs": [],
   "source": [
    "def MSE(predictions, targets):\n",
    "    return ((predictions - targets) ** 2).mean()"
   ]
  },
  {
   "cell_type": "code",
   "execution_count": 18,
   "metadata": {},
   "outputs": [
    {
     "name": "stdout",
     "output_type": "stream",
     "text": [
      "The MSE of the training set is 6.283.\n"
     ]
    }
   ],
   "source": [
    "print (\"The MSE of the training set is {:.3f}.\"\n",
    "                       .format(MSE(predictions, y)))"
   ]
  },
  {
   "cell_type": "markdown",
   "metadata": {},
   "source": [
    "## Question 3:"
   ]
  },
  {
   "cell_type": "code",
   "execution_count": 19,
   "metadata": {},
   "outputs": [],
   "source": [
    "vec = CountVectorizer(ngram_range=(1, 2), max_features=1000)\n",
    "X = vec.fit_transform(corpus)\n",
    "X = X.toarray()\n",
    "y = [d['rating'] for d in data]"
   ]
  },
  {
   "cell_type": "code",
   "execution_count": 20,
   "metadata": {},
   "outputs": [],
   "source": [
    "clf = linear_model.Ridge(1.0, fit_intercept=False)\n",
    "clf.fit(X, y)\n",
    "predictions = clf.predict(X)"
   ]
  },
  {
   "cell_type": "code",
   "execution_count": 21,
   "metadata": {},
   "outputs": [
    {
     "name": "stdout",
     "output_type": "stream",
     "text": [
      "The MSE of the training set is 5.364.\n"
     ]
    }
   ],
   "source": [
    "print (\"The MSE of the training set is {:.3f}.\"\n",
    "                       .format(MSE(predictions, y)))"
   ]
  },
  {
   "cell_type": "markdown",
   "metadata": {},
   "source": [
    "## Question 4:"
   ]
  },
  {
   "cell_type": "code",
   "execution_count": 22,
   "metadata": {},
   "outputs": [],
   "source": [
    "tfidf_vec = TfidfVectorizer(ngram_range=(1, 1), dtype=np.float32)\n",
    "X_tfidf = tfidf_vec.fit_transform(corpus)"
   ]
  },
  {
   "cell_type": "code",
   "execution_count": 23,
   "metadata": {},
   "outputs": [],
   "source": [
    "idf = tfidf_vec.idf_ - 1"
   ]
  },
  {
   "cell_type": "code",
   "execution_count": 24,
   "metadata": {},
   "outputs": [],
   "source": [
    "dict_idf = dict(zip(tfidf_vec.get_feature_names(), idf))"
   ]
  },
  {
   "cell_type": "code",
   "execution_count": 25,
   "metadata": {},
   "outputs": [
    {
     "data": {
      "text/plain": [
       "2.5718725"
      ]
     },
     "execution_count": 25,
     "metadata": {},
     "output_type": "execute_result"
    }
   ],
   "source": [
    "dict_idf['stories']"
   ]
  },
  {
   "cell_type": "code",
   "execution_count": 26,
   "metadata": {},
   "outputs": [
    {
     "data": {
      "text/plain": [
       "6.074946"
      ]
     },
     "execution_count": 26,
     "metadata": {},
     "output_type": "execute_result"
    }
   ],
   "source": [
    "dict_idf['magician']"
   ]
  },
  {
   "cell_type": "code",
   "execution_count": 27,
   "metadata": {},
   "outputs": [
    {
     "data": {
      "text/plain": [
       "5.952344"
      ]
     },
     "execution_count": 27,
     "metadata": {},
     "output_type": "execute_result"
    }
   ],
   "source": [
    "dict_idf['psychic']"
   ]
  },
  {
   "cell_type": "code",
   "execution_count": 28,
   "metadata": {},
   "outputs": [
    {
     "data": {
      "text/plain": [
       "2.296703"
      ]
     },
     "execution_count": 28,
     "metadata": {},
     "output_type": "execute_result"
    }
   ],
   "source": [
    "dict_idf['writing']"
   ]
  },
  {
   "cell_type": "code",
   "execution_count": 29,
   "metadata": {},
   "outputs": [
    {
     "data": {
      "text/plain": [
       "4.062946"
      ]
     },
     "execution_count": 29,
     "metadata": {},
     "output_type": "execute_result"
    }
   ],
   "source": [
    "dict_idf['wonder']"
   ]
  },
  {
   "cell_type": "code",
   "execution_count": 30,
   "metadata": {},
   "outputs": [],
   "source": [
    "X_tfidf = X_tfidf.toarray()"
   ]
  },
  {
   "cell_type": "code",
   "execution_count": 31,
   "metadata": {},
   "outputs": [],
   "source": [
    "dict_tfidf_first = dict(zip(tfidf_vec.get_feature_names(), X_tfidf[0]))"
   ]
  },
  {
   "cell_type": "code",
   "execution_count": 32,
   "metadata": {},
   "outputs": [
    {
     "data": {
      "text/plain": [
       "0.04845343"
      ]
     },
     "execution_count": 32,
     "metadata": {},
     "output_type": "execute_result"
    }
   ],
   "source": [
    "dict_tfidf_first['stories']"
   ]
  },
  {
   "cell_type": "code",
   "execution_count": 33,
   "metadata": {},
   "outputs": [
    {
     "data": {
      "text/plain": [
       "0.09597358"
      ]
     },
     "execution_count": 33,
     "metadata": {},
     "output_type": "execute_result"
    }
   ],
   "source": [
    "dict_tfidf_first['magician']"
   ]
  },
  {
   "cell_type": "code",
   "execution_count": 34,
   "metadata": {},
   "outputs": [
    {
     "data": {
      "text/plain": [
       "0.18862091"
      ]
     },
     "execution_count": 34,
     "metadata": {},
     "output_type": "execute_result"
    }
   ],
   "source": [
    "dict_tfidf_first['psychic']"
   ]
  },
  {
   "cell_type": "code",
   "execution_count": 35,
   "metadata": {},
   "outputs": [
    {
     "data": {
      "text/plain": [
       "0.044720683"
      ]
     },
     "execution_count": 35,
     "metadata": {},
     "output_type": "execute_result"
    }
   ],
   "source": [
    "dict_tfidf_first['writing']"
   ]
  },
  {
   "cell_type": "code",
   "execution_count": 36,
   "metadata": {},
   "outputs": [
    {
     "data": {
      "text/plain": [
       "0.06868025"
      ]
     },
     "execution_count": 36,
     "metadata": {},
     "output_type": "execute_result"
    }
   ],
   "source": [
    "dict_tfidf_first['wonder']"
   ]
  },
  {
   "cell_type": "markdown",
   "metadata": {},
   "source": [
    "## Question 5:"
   ]
  },
  {
   "cell_type": "code",
   "execution_count": 37,
   "metadata": {},
   "outputs": [],
   "source": [
    "tfidf_vec = TfidfVectorizer(ngram_range=(1, 1), dtype=np.float32, \n",
    "                            max_features=1000)\n",
    "X_tfidf = tfidf_vec.fit_transform(corpus)\n",
    "X_tfidf = X_tfidf.toarray()\n",
    "y = [d['rating'] for d in data]"
   ]
  },
  {
   "cell_type": "code",
   "execution_count": 38,
   "metadata": {},
   "outputs": [],
   "source": [
    "clf = linear_model.Ridge(1.0, fit_intercept=False)\n",
    "clf.fit(X_tfidf, y)\n",
    "predictions = clf.predict(X_tfidf)"
   ]
  },
  {
   "cell_type": "code",
   "execution_count": 39,
   "metadata": {},
   "outputs": [
    {
     "name": "stdout",
     "output_type": "stream",
     "text": [
      "The MSE of the training set is 1.523.\n"
     ]
    }
   ],
   "source": [
    "print (\"The MSE of the training set is {:.3f}.\"\n",
    "                       .format(MSE(predictions, y)))"
   ]
  },
  {
   "cell_type": "markdown",
   "metadata": {},
   "source": [
    "## Question 6:"
   ]
  },
  {
   "cell_type": "code",
   "execution_count": 40,
   "metadata": {},
   "outputs": [],
   "source": [
    "def cosineSimilarity(s1, s2):\n",
    "    numer = sum(s1 * s2)\n",
    "    denom = np.sqrt(sum(s1 ** 2)) * np.sqrt(sum(s2 ** 2))\n",
    "    \n",
    "    if denom == 0:\n",
    "        return 0\n",
    "    else:\n",
    "        return numer / denom"
   ]
  },
  {
   "cell_type": "code",
   "execution_count": 41,
   "metadata": {},
   "outputs": [],
   "source": [
    "similarity = [cosineSimilarity(X_tfidf[0], d) for d in X_tfidf]"
   ]
  },
  {
   "cell_type": "code",
   "execution_count": 42,
   "metadata": {},
   "outputs": [],
   "source": [
    "similarity[0] = 0"
   ]
  },
  {
   "cell_type": "code",
   "execution_count": 43,
   "metadata": {},
   "outputs": [],
   "source": [
    "maxSimilarity = max(similarity)"
   ]
  },
  {
   "cell_type": "code",
   "execution_count": 44,
   "metadata": {},
   "outputs": [
    {
     "data": {
      "text/plain": [
       "0.5295288962174183"
      ]
     },
     "execution_count": 44,
     "metadata": {},
     "output_type": "execute_result"
    }
   ],
   "source": [
    "maxSimilarity"
   ]
  },
  {
   "cell_type": "code",
   "execution_count": 45,
   "metadata": {},
   "outputs": [],
   "source": [
    "index = similarity.index(maxSimilarity)"
   ]
  },
  {
   "cell_type": "code",
   "execution_count": 46,
   "metadata": {},
   "outputs": [
    {
     "data": {
      "text/plain": [
       "'r64325341'"
      ]
     },
     "execution_count": 46,
     "metadata": {},
     "output_type": "execute_result"
    }
   ],
   "source": [
    "data[index]['review_id']"
   ]
  }
 ],
 "metadata": {
  "kernelspec": {
   "display_name": "Python 3",
   "language": "python",
   "name": "python3"
  },
  "language_info": {
   "codemirror_mode": {
    "name": "ipython",
    "version": 3
   },
   "file_extension": ".py",
   "mimetype": "text/x-python",
   "name": "python",
   "nbconvert_exporter": "python",
   "pygments_lexer": "ipython3",
   "version": "3.7.3"
  }
 },
 "nbformat": 4,
 "nbformat_minor": 2
}
