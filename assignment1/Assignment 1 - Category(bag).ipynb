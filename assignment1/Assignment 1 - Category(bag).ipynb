{
 "cells": [
  {
   "cell_type": "markdown",
   "metadata": {},
   "source": [
    "# CSE 158, Fall 2019: Assignment 1 - Category"
   ]
  },
  {
   "cell_type": "markdown",
   "metadata": {},
   "source": [
    "**Name:** CUI, HONGJIAN &ensp;&ensp;&ensp;&ensp; **PID:** U08398995 "
   ]
  },
  {
   "cell_type": "code",
   "execution_count": 1,
   "metadata": {},
   "outputs": [],
   "source": [
    "import matplotlib.pyplot as plt\n",
    "import json\n",
    "import numpy as np\n",
    "import random\n",
    "import string\n",
    "from collections import defaultdict\n",
    "from nltk.stem.porter import PorterStemmer\n",
    "from nltk.corpus import stopwords\n",
    "from sklearn.linear_model import LogisticRegression\n",
    "# import nltk\n",
    "# nltk.download('stopwords')"
   ]
  },
  {
   "cell_type": "code",
   "execution_count": 2,
   "metadata": {},
   "outputs": [],
   "source": [
    "def parseData(fname):\n",
    "    for l in open(fname):\n",
    "        yield eval(l)"
   ]
  },
  {
   "cell_type": "code",
   "execution_count": 3,
   "metadata": {},
   "outputs": [],
   "source": [
    "path = \"/home/cui/Projects/PycharmProjects/CSE-158/data/train_Category.json\""
   ]
  },
  {
   "cell_type": "code",
   "execution_count": 4,
   "metadata": {},
   "outputs": [],
   "source": [
    "dataset = list(parseData(path))"
   ]
  },
  {
   "cell_type": "code",
   "execution_count": 5,
   "metadata": {
    "scrolled": true
   },
   "outputs": [
    {
     "data": {
      "text/plain": [
       "{'n_votes': 0,\n",
       " 'review_id': 'r99763621',\n",
       " 'user_id': 'u17334941',\n",
       " 'review_text': \"Genuinely enthralling. If Collins or Bernard did invent this out of whole cloth, they deserve a medal for imagination. Lets leave the veracity aside for a moment - always a touchy subject when it comes to real life stories of the occult - and talk about the contents. \\n The Black Alchemist covers a period of two years in which Collins, a magician, and Bernard, a psychic, undertook a series of psychic quests that put them in opposition with the titular Black Alchemist. As entertainment goes, the combination of harrowing discoveries, ancient lore, and going down the pub for a cigarette and a Guinness, trying to make sense of it all while a hen party screams at each other, is a winner. It is simultaneously down to earth and out of this world. \\n It reads fast, both because of the curiousity and because Collins has a very clear writing style. Sometimes its a little clunky or over repetitive and there's a few meetings that get underreported, but I am very much quibbling here. Mostly important, he captures his own and Bernard's sense of wonder, awe and occasionally revulsion enough that I shared them.\",\n",
       " 'rating': 5,\n",
       " 'genreID': 2,\n",
       " 'genre': 'fantasy_paranormal'}"
      ]
     },
     "execution_count": 5,
     "metadata": {},
     "output_type": "execute_result"
    }
   ],
   "source": [
    "dataset[0]"
   ]
  },
  {
   "cell_type": "code",
   "execution_count": 6,
   "metadata": {},
   "outputs": [],
   "source": [
    "split = 190000"
   ]
  },
  {
   "cell_type": "code",
   "execution_count": 7,
   "metadata": {},
   "outputs": [],
   "source": [
    "training_set = dataset[:split]\n",
    "validation_set = dataset[split:]"
   ]
  },
  {
   "cell_type": "code",
   "execution_count": 8,
   "metadata": {},
   "outputs": [],
   "source": [
    "wordCounts = defaultdict(int)\n",
    "punctuation = set(string.punctuation)\n",
    "totalWords = 0\n",
    "stemmer = PorterStemmer()\n",
    "stopwords = stopwords.words(\"english\")"
   ]
  },
  {
   "cell_type": "code",
   "execution_count": 9,
   "metadata": {},
   "outputs": [],
   "source": [
    "for d in training_set:\n",
    "    text = d['review_text']\n",
    "    text = text.lower()\n",
    "    text = [c for c in text if not (c in punctuation)]\n",
    "    text = ''.join(text)\n",
    "    words = text.strip().split()\n",
    "    for word in words:\n",
    "        w = stemmer.stem(word)\n",
    "        if w in stopwords: continue\n",
    "        totalWords += 1\n",
    "        wordCounts[w] += 1"
   ]
  },
  {
   "cell_type": "code",
   "execution_count": 10,
   "metadata": {},
   "outputs": [],
   "source": [
    "def feature(datum): \n",
    "    text = datum['review_text']\n",
    "    text = text.lower()\n",
    "    text = [c for c in text if not (c in punctuation)]\n",
    "    text = ''.join(text)\n",
    "    \n",
    "    feat = np.zeros(len(wordSet), dtype=\"uint8\")\n",
    "    word = text.strip().split()\n",
    "    for w in word:\n",
    "        w = stemmer.stem(w)\n",
    "        if not (w in wordSet): continue\n",
    "        if w in stopwords: continue\n",
    "        feat[wordId[w]] += 1\n",
    "    \n",
    "    return feat"
   ]
  },
  {
   "cell_type": "code",
   "execution_count": 11,
   "metadata": {},
   "outputs": [],
   "source": [
    "popularWords = sorted(wordCounts.items(), key=lambda x:x[1])[-5000:]\n",
    "popularWords.reverse()\n",
    "wordSet = [w[0] for w in popularWords]\n",
    "wordId = dict(zip(wordSet, range(len(wordSet))))\n",
    "\n",
    "X_train = np.array([feature(d) for d in training_set])\n",
    "X_validation = np.array([feature(d) for d in validation_set])\n",
    "y_train = np.array([d['genreID'] for d in training_set], dtype=\"uint8\")\n",
    "y_validation = np.array([d['genreID'] for d in validation_set], dtype=\"uint8\")"
   ]
  },
  {
   "cell_type": "code",
   "execution_count": null,
   "metadata": {},
   "outputs": [],
   "source": [
    "model = LogisticRegression(solver='sag', C=10, multi_class='auto', max_iter=1000)\n",
    "model.fit(X_train, y_train)\n",
    "\n",
    "dataset_test = list(parseData(\"/home/cui/Projects/PycharmProjects/CSE-158/data/test_Category.json\"))\n",
    "\n",
    "predictions = open(\"/home/cui/Projects/PycharmProjects/CSE-158/data/predictions_Category_sag.txt\", 'w')\n",
    "predictions.write(\"userID-reviewID,prediction\\n\")\n",
    "\n",
    "for l in dataset_test:\n",
    "    cat = model.predict([feature(l)])\n",
    "    predictions.write(l['user_id'] + '-' + l['review_id'] + \",\" + str(cat[0]) + \"\\n\")\n",
    "\n",
    "predictions.close()"
   ]
  },
  {
   "cell_type": "code",
   "execution_count": null,
   "metadata": {},
   "outputs": [],
   "source": [
    "model = LogisticRegression(solver='lbfgs', C=10, multi_class='auto', max_iter=1000)\n",
    "model.fit(X_train, y_train)\n",
    "pred = model.predict(X_validation)\n",
    "prediction = pred == y_validation\n",
    "print(sum(prediction) / len(prediction))\n",
    "\n",
    "dataset_test = list(parseData(\"/home/cui/Projects/PycharmProjects/CSE-158/data/test_Category.json\"))\n",
    "\n",
    "predictions = open(\"/home/cui/Projects/PycharmProjects/CSE-158/data/predictions_Category_lbfgs.txt\", 'w')\n",
    "predictions.write(\"userID-reviewID,prediction\\n\")\n",
    "\n",
    "for l in dataset_test:\n",
    "    cat = model.predict([feature(l)])\n",
    "    predictions.write(l['user_id'] + '-' + l['review_id'] + \",\" + str(cat[0]) + \"\\n\")\n",
    "\n",
    "predictions.close()"
   ]
  }
 ],
 "metadata": {
  "kernelspec": {
   "display_name": "Python 3",
   "language": "python",
   "name": "python3"
  },
  "language_info": {
   "codemirror_mode": {
    "name": "ipython",
    "version": 3
   },
   "file_extension": ".py",
   "mimetype": "text/x-python",
   "name": "python",
   "nbconvert_exporter": "python",
   "pygments_lexer": "ipython3",
   "version": "3.7.3"
  }
 },
 "nbformat": 4,
 "nbformat_minor": 2
}
